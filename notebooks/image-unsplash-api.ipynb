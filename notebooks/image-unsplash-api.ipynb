{
 "cells": [
  {
   "cell_type": "code",
   "execution_count": 5,
   "metadata": {},
   "outputs": [
    {
     "ename": "ModuleNotFoundError",
     "evalue": "No module named 'supabase'",
     "output_type": "error",
     "traceback": [
      "\u001b[1;31m---------------------------------------------------------------------------\u001b[0m",
      "\u001b[1;31mModuleNotFoundError\u001b[0m                       Traceback (most recent call last)",
      "Cell \u001b[1;32mIn[5], line 1\u001b[0m\n\u001b[1;32m----> 1\u001b[0m \u001b[38;5;28;01mfrom\u001b[39;00m \u001b[38;5;21;01msupabase\u001b[39;00m \u001b[38;5;28;01mimport\u001b[39;00m create_client, Client\n\u001b[0;32m      4\u001b[0m \u001b[38;5;66;03m# import os\u001b[39;00m\n\u001b[0;32m      5\u001b[0m \u001b[38;5;66;03m# from dotenv import load_dotenv\u001b[39;00m\n\u001b[0;32m      6\u001b[0m \n\u001b[0;32m      7\u001b[0m \u001b[38;5;66;03m# Load environment variables\u001b[39;00m\n\u001b[0;32m      8\u001b[0m \u001b[38;5;66;03m# load_dotenv()\u001b[39;00m\n\u001b[0;32m     10\u001b[0m VITE_SUPABASE_URL\u001b[38;5;241m=\u001b[39m\u001b[38;5;124m\"\u001b[39m\u001b[38;5;124mhttps://mouwhbulaoghvsxbvmwj.supabase.co\u001b[39m\u001b[38;5;124m\"\u001b[39m\n",
      "\u001b[1;31mModuleNotFoundError\u001b[0m: No module named 'supabase'"
     ]
    }
   ],
   "source": [
    "\n",
    "\n",
    "\n",
    "\n",
    "\n",
    "# Example authentication functions\n",
    "def sign_up(email: str, password: str):\n",
    "    try:\n",
    "        response = supabase.auth.sign_up({\n",
    "            \"email\": email,\n",
    "            \"password\": password\n",
    "        })\n",
    "        return response\n",
    "    except Exception as e:\n",
    "        print(f\"Error signing up: {e}\")\n",
    "        return None\n",
    "\n",
    "def sign_in(email: str, password: str):\n",
    "    try:\n",
    "        response = supabase.auth.sign_in_with_password({\n",
    "            \"email\": email,\n",
    "            \"password\": password\n",
    "        })\n",
    "        return response\n",
    "    except Exception as e:\n",
    "        print(f\"Error signing in: {e}\")\n",
    "        return None\n",
    "\n",
    "def sign_out():\n",
    "    try:\n",
    "        response = supabase.auth.sign_out()\n",
    "        return response\n",
    "    except Exception as e:\n",
    "        print(f\"Error signing out: {e}\")\n",
    "        return None\n",
    "\n",
    "# Example usage:\n",
    "# sign_up(\"user@example.com\", \"password123\")\n",
    "# sign_in(\"user@example.com\", \"password123\")\n",
    "# sign_out()"
   ]
  }
 ],
 "metadata": {
  "kernelspec": {
   "display_name": "Python 3",
   "language": "python",
   "name": "python3"
  },
  "language_info": {
   "codemirror_mode": {
    "name": "ipython",
    "version": 3
   },
   "file_extension": ".py",
   "mimetype": "text/x-python",
   "name": "python",
   "nbconvert_exporter": "python",
   "pygments_lexer": "ipython3",
   "version": "3.12.1"
  }
 },
 "nbformat": 4,
 "nbformat_minor": 2
}
